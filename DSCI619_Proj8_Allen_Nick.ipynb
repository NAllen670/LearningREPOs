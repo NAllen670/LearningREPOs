{
  "nbformat": 4,
  "nbformat_minor": 0,
  "metadata": {
    "colab": {
      "provenance": [],
      "authorship_tag": "ABX9TyMrsiFaPqVqoaUl0f1MYLt6",
      "include_colab_link": true
    },
    "kernelspec": {
      "name": "python3",
      "display_name": "Python 3"
    },
    "language_info": {
      "name": "python"
    }
  },
  "cells": [
    {
      "cell_type": "markdown",
      "metadata": {
        "id": "view-in-github",
        "colab_type": "text"
      },
      "source": [
        "<a href=\"https://colab.research.google.com/github/NAllen670/LearningREPOs/blob/main/DSCI619_Proj8_Allen_Nick.ipynb\" target=\"_parent\"><img src=\"https://colab.research.google.com/assets/colab-badge.svg\" alt=\"Open In Colab\"/></a>"
      ]
    },
    {
      "cell_type": "markdown",
      "source": [
        "# Prompt\n",
        "\n",
        "You are a data scientist in a business shipping company. You are asked to generate images of handwritten digits using a Deep Convolutional Generative Adversarial Network (DCGAN).\n",
        "\n",
        "You are asked to develop a DCGAN model based on the sample codesLinks to an external site.  using the attached Jupyter Notebook and writing a script in Python, and running all the cells. You only need to submit a JupyterNotebook.\n",
        "\n",
        "Data Source: MNIST DatasetLinks to an external site.\n",
        "\n",
        "Sample Codes: Deep Convolutional Generative Adversarial NetworkLinks to an external site."
      ],
      "metadata": {
        "id": "bE_EhL1khtqi"
      }
    },
    {
      "cell_type": "markdown",
      "source": [
        "## 1. Load and prepare the MNIST dataset.\n"
      ],
      "metadata": {
        "id": "GXxPAYkmgmIl"
      }
    },
    {
      "cell_type": "code",
      "source": [
        "%%time\n",
        "#use colab function to expose upload button for any user to upload their data from local machine memory.\n",
        "from google.colab import files\n",
        "uploades = files.upload()"
      ],
      "metadata": {
        "id": "lj9tvgTQg3KF"
      },
      "execution_count": null,
      "outputs": []
    },
    {
      "cell_type": "code",
      "source": [
        "%%time\n",
        "import pandas as pd\n",
        "df = pd.read_csv('PRSA_Data_Dingling_20130301-20170228.csv')  #sep left blank to use deault ,    and header left off so python can infer\n",
        "df.head()"
      ],
      "metadata": {
        "id": "QOcufjWvj9Mw"
      },
      "execution_count": null,
      "outputs": []
    },
    {
      "cell_type": "markdown",
      "source": [
        "## 2. Create the Generator.\n"
      ],
      "metadata": {
        "id": "qY1EaXdXgntS"
      }
    },
    {
      "cell_type": "code",
      "source": [],
      "metadata": {
        "id": "Zbqs_t-9TMFG"
      },
      "execution_count": null,
      "outputs": []
    },
    {
      "cell_type": "code",
      "source": [],
      "metadata": {
        "id": "l2yvqoKBTMHV"
      },
      "execution_count": null,
      "outputs": []
    },
    {
      "cell_type": "code",
      "source": [],
      "metadata": {
        "id": "TuzUDErhTMJe"
      },
      "execution_count": null,
      "outputs": []
    },
    {
      "cell_type": "code",
      "source": [],
      "metadata": {
        "id": "EzrA1s9GTMLs"
      },
      "execution_count": null,
      "outputs": []
    },
    {
      "cell_type": "markdown",
      "source": [
        "## 3. Create the discriminator.\n"
      ],
      "metadata": {
        "id": "heokkL4Rgn0M"
      }
    },
    {
      "cell_type": "code",
      "source": [],
      "metadata": {
        "id": "wniERjvfTP56"
      },
      "execution_count": null,
      "outputs": []
    },
    {
      "cell_type": "code",
      "source": [],
      "metadata": {
        "id": "xfJpL_WSTP8T"
      },
      "execution_count": null,
      "outputs": []
    },
    {
      "cell_type": "code",
      "source": [],
      "metadata": {
        "id": "fCWYYvE9TP-Q"
      },
      "execution_count": null,
      "outputs": []
    },
    {
      "cell_type": "code",
      "source": [],
      "metadata": {
        "id": "wc-G1SGTTQAv"
      },
      "execution_count": null,
      "outputs": []
    },
    {
      "cell_type": "markdown",
      "source": [
        "## 4. Define the loss and optimizers.\n"
      ],
      "metadata": {
        "id": "2Z7o1cWDgn67"
      }
    },
    {
      "cell_type": "code",
      "source": [],
      "metadata": {
        "id": "ONTHasfhTS4u"
      },
      "execution_count": null,
      "outputs": []
    },
    {
      "cell_type": "code",
      "source": [],
      "metadata": {
        "id": "zpkMubR6TS9s"
      },
      "execution_count": null,
      "outputs": []
    },
    {
      "cell_type": "code",
      "source": [],
      "metadata": {
        "id": "h9FpRhjFTTDZ"
      },
      "execution_count": null,
      "outputs": []
    },
    {
      "cell_type": "markdown",
      "source": [
        "## 5. Define the training loop.\n"
      ],
      "metadata": {
        "id": "sqrz5DK6goA8"
      }
    },
    {
      "cell_type": "code",
      "source": [],
      "metadata": {
        "id": "My8L4c5YTero"
      },
      "execution_count": null,
      "outputs": []
    },
    {
      "cell_type": "code",
      "source": [],
      "metadata": {
        "id": "LLLWD0IXTet-"
      },
      "execution_count": null,
      "outputs": []
    },
    {
      "cell_type": "markdown",
      "source": [
        "## 6. Train the model.\n"
      ],
      "metadata": {
        "id": "6cOsmHlUgoOO"
      }
    },
    {
      "cell_type": "code",
      "source": [],
      "metadata": {
        "id": "QPd-m9nFTgEY"
      },
      "execution_count": null,
      "outputs": []
    },
    {
      "cell_type": "code",
      "source": [],
      "metadata": {
        "id": "hp-RFVZZTgGq"
      },
      "execution_count": null,
      "outputs": []
    },
    {
      "cell_type": "markdown",
      "source": [
        "## 7. Create a GIF."
      ],
      "metadata": {
        "id": "J5bsqHcpgoUZ"
      }
    },
    {
      "cell_type": "code",
      "source": [],
      "metadata": {
        "id": "F6R91SQIiChU"
      },
      "execution_count": null,
      "outputs": []
    },
    {
      "cell_type": "code",
      "source": [],
      "metadata": {
        "id": "E_ofENSeTeU9"
      },
      "execution_count": null,
      "outputs": []
    },
    {
      "cell_type": "code",
      "source": [],
      "metadata": {
        "id": "0xPEHwu2TeW_"
      },
      "execution_count": null,
      "outputs": []
    }
  ]
}